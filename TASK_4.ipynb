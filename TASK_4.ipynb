{
  "nbformat": 4,
  "nbformat_minor": 0,
  "metadata": {
    "colab": {
      "name": "TASK 4",
      "provenance": [],
      "include_colab_link": true
    },
    "kernelspec": {
      "name": "python3",
      "display_name": "Python 3"
    },
    "language_info": {
      "name": "python"
    }
  },
  "cells": [
    {
      "cell_type": "markdown",
      "metadata": {
        "id": "view-in-github",
        "colab_type": "text"
      },
      "source": [
        "<a href=\"https://colab.research.google.com/github/aswathysaji/LEARN.PY/blob/main/TASK_4.ipynb\" target=\"_parent\"><img src=\"https://colab.research.google.com/assets/colab-badge.svg\" alt=\"Open In Colab\"/></a>"
      ]
    },
    {
      "cell_type": "markdown",
      "metadata": {
        "id": "jhLooYoXnjso"
      },
      "source": [
        "1. Create a dictionary that contains \n",
        "            name = Alex Ryder\n",
        "            age  = 28\n",
        "Update the age to 32 and another element to the dictionary\n",
        "            age = 32\n",
        "            town = calicut\n",
        "Expected output\n",
        "            {'name': 'Alex Ryder', 'age': 32, 'town': 'calicut'}"
      ]
    },
    {
      "cell_type": "code",
      "metadata": {
        "id": "EE8jp4PMpp4Q",
        "colab": {
          "base_uri": "https://localhost:8080/"
        },
        "outputId": "6346d604-06e4-4fa5-e13e-c2b1d837ce6c"
      },
      "source": [
        "#please enter your answer below this line\n",
        "details={'name':'Alex Ryder','age':28,'town':'calicut'}\n",
        "details['age']=32\n",
        "print(details)"
      ],
      "execution_count": 5,
      "outputs": [
        {
          "output_type": "stream",
          "text": [
            "{'name': 'Alex Ryder', 'age': 32, 'town': 'calicut'}\n"
          ],
          "name": "stdout"
        }
      ]
    },
    {
      "cell_type": "markdown",
      "metadata": {
        "id": "nM1kmYmKqFwT"
      },
      "source": [
        "2. Create a dictionary containing the squares of numbers from 1 to 5.\n",
        "Expected output\n",
        "            {1: 1, 2: 4, 3: 9, 4: 16, 5: 15}\n",
        "\n",
        "From this dictionary remove the item 3 and its square.\n",
        "\n",
        "Expected output\n",
        "                    \n",
        "                {1: 1, 2: 4, 4: 16, 5: 15}\n",
        "\n",
        "Now remove all items from the dictionary.\n",
        "\n",
        "Expected output\n",
        "\n",
        "      {}\n",
        "\n",
        "Now delete the dictionary itself.\n",
        "\n",
        "          "
      ]
    },
    {
      "cell_type": "code",
      "metadata": {
        "id": "VL312SCHygzS",
        "colab": {
          "base_uri": "https://localhost:8080/"
        },
        "outputId": "10553cde-2745-4e92-f472-39297b0cb50a"
      },
      "source": [
        "#please enter your answer below this line\n",
        "dictionary={}\n",
        "for i in range(1,6):\n",
        "  key=i\n",
        "  value=i*i\n",
        "  dictionary[key]=value\n",
        "print(dictionary)\n",
        "dictionary.pop(3)\n",
        "print(dictionary)\n",
        "dictionary.clear()\n",
        "print(dictionary)"
      ],
      "execution_count": 9,
      "outputs": [
        {
          "output_type": "stream",
          "text": [
            "{1: 1, 2: 4, 3: 9, 4: 16, 5: 25}\n",
            "{1: 1, 2: 4, 4: 16, 5: 25}\n",
            "{}\n"
          ],
          "name": "stdout"
        }
      ]
    },
    {
      "cell_type": "markdown",
      "metadata": {
        "id": "GaJF8GEPzDQN"
      },
      "source": [
        "3. Make a set containing the elements 1, hello, (0,1,2).\n",
        "\n",
        "Expected output\n",
        "            \n",
        "            {'hello', 1, (0, 1, 2)}\n",
        "\n",
        "Now add the value 6 to the set.\n",
        "\n",
        "Expected output\n",
        "\n",
        "        {'hello', 1, (0, 1, 2), 6}\n",
        "\n",
        "\n",
        "\n"
      ]
    },
    {
      "cell_type": "code",
      "metadata": {
        "id": "RlKGp2E31rZB",
        "colab": {
          "base_uri": "https://localhost:8080/"
        },
        "outputId": "9749bba4-c016-45f6-f323-144ca849c434"
      },
      "source": [
        "#please enter your answer below this line\n",
        "elements={'hello',1,(0,1,2)}\n",
        "print(elements)\n",
        "elements.add(6)\n",
        "print(elements)"
      ],
      "execution_count": 16,
      "outputs": [
        {
          "output_type": "stream",
          "text": [
            "{(0, 1, 2), 'hello', 1}\n",
            "{(0, 1, 2), 'hello', 1, 6}\n"
          ],
          "name": "stdout"
        }
      ]
    }
  ]
}