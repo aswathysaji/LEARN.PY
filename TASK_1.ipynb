{
  "nbformat": 4,
  "nbformat_minor": 0,
  "metadata": {
    "colab": {
      "name": "TASK 1",
      "provenance": [],
      "collapsed_sections": [],
      "include_colab_link": true
    },
    "kernelspec": {
      "name": "python3",
      "display_name": "Python 3"
    },
    "language_info": {
      "name": "python"
    }
  },
  "cells": [
    {
      "cell_type": "markdown",
      "metadata": {
        "id": "view-in-github",
        "colab_type": "text"
      },
      "source": [
        "<a href=\"https://colab.research.google.com/github/aswathysaji/LEARN.PY/blob/main/TASK_1.ipynb\" target=\"_parent\"><img src=\"https://colab.research.google.com/assets/colab-badge.svg\" alt=\"Open In Colab\"/></a>"
      ]
    },
    {
      "cell_type": "markdown",
      "metadata": {
        "id": "q-yWxfWESiQo"
      },
      "source": [
        "1.Write a program that uses input to prompt a user for their name and then welcomes them."
      ]
    },
    {
      "cell_type": "code",
      "metadata": {
        "id": "9ikpRxqMSxu0",
        "colab": {
          "base_uri": "https://localhost:8080/"
        },
        "outputId": "349b4e21-fd97-433b-ef2d-031bc6500524"
      },
      "source": [
        "#please provide your answer here below this line\n",
        "name=input(\"Enter your name:\")\n",
        "print(\"%s, welcome to LEARN.PY\"%name)"
      ],
      "execution_count": null,
      "outputs": [
        {
          "output_type": "stream",
          "text": [
            "Enter your name:Aswathy Saji\n",
            "Aswathy Saji, welcome to LEARN.PY\n"
          ],
          "name": "stdout"
        }
      ]
    },
    {
      "cell_type": "markdown",
      "metadata": {
        "id": "Ay5OdxguS-2Z"
      },
      "source": [
        "2.Write a program which prompts the user for a Celsius temperature, convert the temperature to Fahrenheit, and print out the converted temperature."
      ]
    },
    {
      "cell_type": "code",
      "metadata": {
        "id": "MMv2yWNtTgEu",
        "colab": {
          "base_uri": "https://localhost:8080/"
        },
        "outputId": "483addd4-b1f3-4527-95bb-57bea00462cf"
      },
      "source": [
        "#please provide your answer here below this line\n",
        "temperature=int(input(\"Enter temperature in Celsius:\"))\n",
        "fahrenheit=(temperature*(9/5))+32\n",
        "print(\"The Fahrenheit temperature is: %s\"%fahrenheit)\n"
      ],
      "execution_count": null,
      "outputs": [
        {
          "output_type": "stream",
          "text": [
            "Enter temperature in Celsius:0\n",
            "The Fahrenheit temperature is: 32.0\n"
          ],
          "name": "stdout"
        }
      ]
    },
    {
      "cell_type": "markdown",
      "metadata": {
        "id": "v6O1a198TpNd"
      },
      "source": [
        "3.Write a Python program to convert degree to radian."
      ]
    },
    {
      "cell_type": "code",
      "metadata": {
        "id": "27Jj4_D0UQBA",
        "colab": {
          "base_uri": "https://localhost:8080/"
        },
        "outputId": "92ba8507-ce07-4a9a-8eef-361f8d1ed3d5"
      },
      "source": [
        "#please provide your answer here below this line\n",
        "degree=int(input(\"Enter degree:\"))\n",
        "radian=degree*(3.14/180)\n",
        "print(\"Radian is: %s\"%radian)\n"
      ],
      "execution_count": null,
      "outputs": [
        {
          "output_type": "stream",
          "text": [
            "Enter degree:32\n",
            "Radian is: 0.5582222222222223\n"
          ],
          "name": "stdout"
        }
      ]
    }
  ]
}