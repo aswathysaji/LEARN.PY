{
  "nbformat": 4,
  "nbformat_minor": 0,
  "metadata": {
    "colab": {
      "name": "TASK 3.ipynb",
      "provenance": [],
      "collapsed_sections": [],
      "include_colab_link": true
    },
    "kernelspec": {
      "name": "python3",
      "display_name": "Python 3"
    },
    "language_info": {
      "name": "python"
    }
  },
  "cells": [
    {
      "cell_type": "markdown",
      "metadata": {
        "id": "view-in-github",
        "colab_type": "text"
      },
      "source": [
        "<a href=\"https://colab.research.google.com/github/aswathysaji/LEARN.PY/blob/main/TASK_3.ipynb\" target=\"_parent\"><img src=\"https://colab.research.google.com/assets/colab-badge.svg\" alt=\"Open In Colab\"/></a>"
      ]
    },
    {
      "cell_type": "markdown",
      "metadata": {
        "id": "z20IIB0eUQMN"
      },
      "source": [
        "1 - Write a program which takes a number as input from the user and check whether the number is odd or even.If odd print the number is odd if not print it is even."
      ]
    },
    {
      "cell_type": "code",
      "metadata": {
        "id": "dVgGJ-wTVRit",
        "colab": {
          "base_uri": "https://localhost:8080/"
        },
        "outputId": "7fc22e3a-f0c2-4e0b-db23-5b1f83a2bbd0"
      },
      "source": [
        "#please enter your answer below this line\n",
        "number=int(input(\"Enter a number:\"))\n",
        "if(number%2==0):\n",
        "  print(\"%s is even\"%number)\n",
        "else:\n",
        "  print(\"%s is odd\"%number)"
      ],
      "execution_count": 2,
      "outputs": [
        {
          "output_type": "stream",
          "text": [
            "Enter a number:5\n",
            "5 is odd\n"
          ],
          "name": "stdout"
        }
      ]
    },
    {
      "cell_type": "markdown",
      "metadata": {
        "id": "7778XD8PVblj"
      },
      "source": [
        "2 -Write a program to find the largest among three numbers and print the largest number."
      ]
    },
    {
      "cell_type": "code",
      "metadata": {
        "id": "m0tUOkOFWR-d",
        "colab": {
          "base_uri": "https://localhost:8080/"
        },
        "outputId": "dee469e4-fa83-4e92-91a1-2ca356c74921"
      },
      "source": [
        "#please enter your answer below this line\n",
        "num1=int(input(\"Number 1:\"))\n",
        "num2=int(input(\"Number 2:\"))\n",
        "num3=int(input(\"Number 3:\"))\n",
        "large=num1\n",
        "if(num1<num2):\n",
        "  large=num2\n",
        "  if(num2<num3):\n",
        "    large=num3\n",
        "print(\"%s is the largest number\"%large)"
      ],
      "execution_count": 8,
      "outputs": [
        {
          "output_type": "stream",
          "text": [
            "Number 1:12\n",
            "Number 2:23\n",
            "Number 3:34\n",
            "34 is the largest number\n"
          ],
          "name": "stdout"
        }
      ]
    },
    {
      "cell_type": "markdown",
      "metadata": {
        "id": "Jg2Ns4OQWaJy"
      },
      "source": [
        "3 -Write a function to prompt for a score between 0.0 and 1.0.\n",
        "\n",
        "    If the score is out of range, print an error.\n",
        "    If the score is between 0.0 and 1.0, print a grade using the following table:\n",
        "    Score Grade\n",
        "             Score\tGrade\n",
        "            >= 0.9\tA\n",
        "            >= 0.8\tB\n",
        "            >= 0.7\tC\n",
        "            >= 0.6\tD\n",
        "             < 0.6\tF\n",
        "If the user enters a value out of range, print a suitable error message and exit. For the test, enter a score of 0.85."
      ]
    },
    {
      "cell_type": "code",
      "metadata": {
        "id": "6DLbGe6XXZPx",
        "colab": {
          "base_uri": "https://localhost:8080/"
        },
        "outputId": "7f15acb4-6ab0-4dc3-b506-af5e5df097ae"
      },
      "source": [
        "#please enter your answer below this line\n",
        "def promptScore(score):\n",
        "  if(score<0.0 or score>1.0):\n",
        "    return \"Score is out of range\"\n",
        "  else:\n",
        "    if(score>=0.9):\n",
        "      return 'A'\n",
        "    elif(score>=0.8):\n",
        "      return 'B'\n",
        "    elif(score>=0.7):\n",
        "      return 'C'\n",
        "    elif(score>=0.6):\n",
        "      return 'D'\n",
        "    else:\n",
        "      return 'F'\n",
        "score=float(input(\"Enter the score:\"))\n",
        "result=promptScore(score)\n",
        "print(result)"
      ],
      "execution_count": 13,
      "outputs": [
        {
          "output_type": "stream",
          "text": [
            "Enter the score:0.68\n",
            "D\n"
          ],
          "name": "stdout"
        }
      ]
    },
    {
      "cell_type": "markdown",
      "metadata": {
        "id": "-o0scDq7WkVT"
      },
      "source": [
        ""
      ]
    }
  ]
}