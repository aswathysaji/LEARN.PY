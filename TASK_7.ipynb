{
  "nbformat": 4,
  "nbformat_minor": 0,
  "metadata": {
    "colab": {
      "name": "TASK  7.ipynb",
      "provenance": [],
      "include_colab_link": true
    },
    "kernelspec": {
      "name": "python3",
      "display_name": "Python 3"
    },
    "language_info": {
      "name": "python"
    }
  },
  "cells": [
    {
      "cell_type": "markdown",
      "metadata": {
        "id": "view-in-github",
        "colab_type": "text"
      },
      "source": [
        "<a href=\"https://colab.research.google.com/github/aswathysaji/LEARN.PY/blob/main/TASK_7.ipynb\" target=\"_parent\"><img src=\"https://colab.research.google.com/assets/colab-badge.svg\" alt=\"Open In Colab\"/></a>"
      ]
    },
    {
      "cell_type": "markdown",
      "metadata": {
        "id": "b0V3vwzcydKy"
      },
      "source": [
        "1. Write a program to check whether a  string is palindrome or not using functions. \n",
        "\n",
        "   ( A function is to be created to check whether the string is palindrome and it should give the output true or false to the main program)"
      ]
    },
    {
      "cell_type": "code",
      "metadata": {
        "id": "M2Mi7EOdyxiu",
        "colab": {
          "base_uri": "https://localhost:8080/"
        },
        "outputId": "8bb04cd7-dbb0-477c-e673-0aa1d72abb53"
      },
      "source": [
        "#please enter the code below this line.\n",
        "def palindrome(str):\n",
        "  if(str==str[::-1]):\n",
        "    return 'true'\n",
        "  else:\n",
        "    return 'false'\n",
        "str=input()\n",
        "if(palindrome(str)=='true'):\n",
        "  print(\"The string is palindrome\")\n",
        "else:\n",
        "  print(\"The string is not palindrome\")"
      ],
      "execution_count": 7,
      "outputs": [
        {
          "output_type": "stream",
          "text": [
            "malayalam\n",
            "The string is palindrome\n"
          ],
          "name": "stdout"
        }
      ]
    },
    {
      "cell_type": "markdown",
      "metadata": {
        "id": "vSiShTyOzEz-"
      },
      "source": [
        "2.  Write a menu driven program to find largest element in L, smallest element, avg of all values, sum of all values in L. All these operation should be performed in different functions and the result should be returned.\n",
        "\n",
        "\n",
        "      L=[23,24,11,90,1,41,9,99,28,56,72]"
      ]
    },
    {
      "cell_type": "code",
      "metadata": {
        "id": "fRtMIw_CzsmO",
        "colab": {
          "base_uri": "https://localhost:8080/"
        },
        "outputId": "110fdd52-e9b9-478c-c867-ab28aab05e36"
      },
      "source": [
        "#please enter the code below this line.\n",
        "def large(l):\n",
        "  max=l[0]\n",
        "  for i in l:\n",
        "    if(i>max):\n",
        "      max=i\n",
        "  return max\n",
        "def small(l):\n",
        "  small=l[0]\n",
        "  for i in l:\n",
        "    if(i<small):\n",
        "      small=i\n",
        "  return small\n",
        "def average(l):\n",
        "  sum=0\n",
        "  for i in l:\n",
        "    sum+=i\n",
        "  return(sum/len(l))\n",
        "def sum(l):\n",
        "  sum=0\n",
        "  for i in l:\n",
        "    sum+=i\n",
        "  return sum\n",
        "L=[23,24,11,90,1,41,9,99,28,56,72]\n",
        "print(large(L))\n",
        "print(small(L))\n",
        "print(average(L))\n",
        "print(sum(L))"
      ],
      "execution_count": 15,
      "outputs": [
        {
          "output_type": "stream",
          "text": [
            "99\n",
            "1\n",
            "41.27272727272727\n",
            "454\n"
          ],
          "name": "stdout"
        }
      ]
    }
  ]
}